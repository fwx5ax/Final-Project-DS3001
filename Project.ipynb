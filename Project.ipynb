{
  "nbformat": 4,
  "nbformat_minor": 0,
  "metadata": {
    "colab": {
      "provenance": []
    },
    "kernelspec": {
      "name": "python3",
      "display_name": "Python 3"
    },
    "language_info": {
      "name": "python"
    }
  },
  "cells": [
    {
      "cell_type": "markdown",
      "source": [
        "Final Project - GSS"
      ],
      "metadata": {
        "id": "6TIT1JSnMBmf"
      }
    },
    {
      "cell_type": "code",
      "source": [
        "import numpy as np\n",
        "import pandas as pd\n",
        "import matplotlib.pyplot as plt"
      ],
      "metadata": {
        "id": "ZXlrH4uMZbBv"
      },
      "execution_count": 2,
      "outputs": []
    },
    {
      "cell_type": "code",
      "source": [
        "var_list = ['marital', 'divorce', 'childsinhh', 'childs', 'hompop_exp','rspgndr', 'rprnt18',\n",
        "'educ', 'degree', 'paeduc', 'maeduc', 'wrkstat', 'sei', 'realrinc', 'realinc', 'rincome',\n",
        "'babies','preteen','teens','adults','race', 'raceacs1', 'raceacs2', 'raceacs3',\n",
        "'raceacs16', 'sex', 'sexornt','vaxsafe','covid12','happy','hapmar','hapcohab', 'satfin',\n",
        "'health', 'stress', 'neisafe','physact', 'instype01', 'partners', 'condom', 'evidu',\n",
        " 'smokeday', 'arrest', 'trust', 'helpful','joblose', 'jobfind', 'spwrksta', 'cowrksta', 'class',\n",
        "'polviews', 'reliten', 'pray', 'attend', 'postlife', 'fear','gunlaw', 'satjob'] # List of variables you want to save\n",
        "\n",
        "output_filename = 'selected_gss_data.csv' # Name of the file you want to save the data to\n",
        "#\n",
        "phase = 0 # Starts in write mode; after one iteration of loop, switches to append mode\n",
        "#\n",
        "for k in range(3): # for each chunk of the data\n",
        "    url = 'https://github.com/DS3001/project_gss/raw/main/gss_chunk_' + str(1+k) + '.parquet' # Create url to the chunk to be processed\n",
        "    print(url) # Check the url is correct\n",
        "    df = pd.read_parquet(url) # Download this chunk of data\n",
        "    print(df.head()) # Visually inspect the first few rows\n",
        "    if phase == 0:\n",
        "        df.loc[:,var_list].to_csv(output_filename, # specifies target file to save the chunk to\n",
        "                                mode='w', # control write versus append\n",
        "                                header=var_list, # variable names\n",
        "                                index=False) # no row index saved\n",
        "        phase = 1 # Switch from write mode to append mode\n",
        "    elif phase == 1 :\n",
        "        df.loc[:,var_list].to_csv(output_filename, # specifies target file to save the chunk to\n",
        "                                mode='a', # control write versus append\n",
        "                                header=None, # variable names\n",
        "                                index=False) # no row index saved\n",
        "        phase = 1 # Switch from write mode to append mode\n"
      ],
      "metadata": {
        "colab": {
          "base_uri": "https://localhost:8080/"
        },
        "id": "-RHWw3iKcTbP",
        "outputId": "f0b27b9d-1002-4435-8d46-6c309cb688ed"
      },
      "execution_count": 17,
      "outputs": [
        {
          "output_type": "stream",
          "name": "stdout",
          "text": [
            "https://github.com/DS3001/project_gss/raw/main/gss_chunk_1.parquet\n",
            "   year  id            wrkstat  hrs1  hrs2 evwork    occ  prestige  \\\n",
            "0  1972   1  working full time   NaN   NaN    NaN  205.0      50.0   \n",
            "1  1972   2            retired   NaN   NaN    yes  441.0      45.0   \n",
            "2  1972   3  working part time   NaN   NaN    NaN  270.0      44.0   \n",
            "3  1972   4  working full time   NaN   NaN    NaN    1.0      57.0   \n",
            "4  1972   5      keeping house   NaN   NaN    yes  385.0      40.0   \n",
            "\n",
            "         wrkslf wrkgovt  ...  agehef12 agehef13 agehef14  hompoph wtssps_nea  \\\n",
            "0  someone else     NaN  ...       NaN      NaN      NaN      NaN        NaN   \n",
            "1  someone else     NaN  ...       NaN      NaN      NaN      NaN        NaN   \n",
            "2  someone else     NaN  ...       NaN      NaN      NaN      NaN        NaN   \n",
            "3  someone else     NaN  ...       NaN      NaN      NaN      NaN        NaN   \n",
            "4  someone else     NaN  ...       NaN      NaN      NaN      NaN        NaN   \n",
            "\n",
            "   wtssnrps_nea  wtssps_next wtssnrps_next wtsscomp wtsscompnr  \n",
            "0           NaN          NaN           NaN   0.4446        NaN  \n",
            "1           NaN          NaN           NaN   0.8893        NaN  \n",
            "2           NaN          NaN           NaN   0.8893        NaN  \n",
            "3           NaN          NaN           NaN   0.8893        NaN  \n",
            "4           NaN          NaN           NaN   0.8893        NaN  \n",
            "\n",
            "[5 rows x 6694 columns]\n",
            "https://github.com/DS3001/project_gss/raw/main/gss_chunk_2.parquet\n",
            "   year   id            wrkstat  hrs1  hrs2 evwork    occ  prestige  \\\n",
            "0  1989  775            retired   NaN   NaN    yes  540.0      36.0   \n",
            "1  1989  776  working full time  40.0   NaN    NaN  925.0      36.0   \n",
            "2  1989  777            retired   NaN   NaN    yes   80.0      61.0   \n",
            "3  1989  778  working full time  44.0   NaN    NaN  912.0      26.0   \n",
            "4  1989  779            retired   NaN   NaN    yes  690.0      32.0   \n",
            "\n",
            "         wrkslf wrkgovt  ...  agehef12 agehef13 agehef14  hompoph wtssps_nea  \\\n",
            "0  someone else     NaN  ...       NaN      NaN      NaN      NaN        NaN   \n",
            "1  someone else     NaN  ...       NaN      NaN      NaN      NaN        NaN   \n",
            "2  someone else     NaN  ...       NaN      NaN      NaN      NaN        NaN   \n",
            "3  someone else     NaN  ...       NaN      NaN      NaN      NaN        NaN   \n",
            "4  someone else     NaN  ...       NaN      NaN      NaN      NaN        NaN   \n",
            "\n",
            "   wtssnrps_nea  wtssps_next wtssnrps_next  wtsscomp wtsscompnr  \n",
            "0           NaN          NaN           NaN  1.295069        NaN  \n",
            "1           NaN          NaN           NaN  0.483624        NaN  \n",
            "2           NaN          NaN           NaN  0.407988        NaN  \n",
            "3           NaN          NaN           NaN  1.225988        NaN  \n",
            "4           NaN          NaN           NaN  0.504302        NaN  \n",
            "\n",
            "[5 rows x 6694 columns]\n",
            "https://github.com/DS3001/project_gss/raw/main/gss_chunk_3.parquet\n",
            "   year    id            wrkstat  hrs1  hrs2 evwork  occ  prestige  \\\n",
            "0  2006  1751  working full time  40.0   NaN    NaN  NaN       NaN   \n",
            "1  2006  1752          in school   NaN   NaN    yes  NaN       NaN   \n",
            "2  2006  1753  working full time  35.0   NaN    NaN  NaN       NaN   \n",
            "3  2006  1754  working full time  50.0   NaN    NaN  NaN       NaN   \n",
            "4  2006  1755  working full time  40.0   NaN    NaN  NaN       NaN   \n",
            "\n",
            "         wrkslf     wrkgovt  ...  agehef12 agehef13 agehef14  hompoph  \\\n",
            "0  someone else  government  ...       NaN      NaN      NaN      NaN   \n",
            "1  someone else     private  ...       NaN      NaN      NaN      NaN   \n",
            "2  someone else  government  ...       NaN      NaN      NaN      NaN   \n",
            "3  someone else  government  ...       NaN      NaN      NaN      NaN   \n",
            "4  someone else     private  ...       NaN      NaN      NaN      NaN   \n",
            "\n",
            "  wtssps_nea  wtssnrps_nea  wtssps_next wtssnrps_next  wtsscomp wtsscompnr  \n",
            "0        NaN           NaN          NaN           NaN  1.079141   0.961150  \n",
            "1        NaN           NaN          NaN           NaN  7.673834   6.641571  \n",
            "2        NaN           NaN          NaN           NaN  0.584663   0.512145  \n",
            "3        NaN           NaN          NaN           NaN  0.715731   0.637592  \n",
            "4        NaN           NaN          NaN           NaN  1.094831   0.956094  \n",
            "\n",
            "[5 rows x 6694 columns]\n"
          ]
        }
      ]
    },
    {
      "cell_type": "code",
      "source": [
        "gss = pd.read_csv('selected_gss_data.csv')"
      ],
      "metadata": {
        "colab": {
          "base_uri": "https://localhost:8080/"
        },
        "id": "CQiUwT-C7On2",
        "outputId": "c09ab514-76e2-4603-caa1-5e73a5ab05c7"
      },
      "execution_count": 18,
      "outputs": [
        {
          "output_type": "stream",
          "name": "stderr",
          "text": [
            "<ipython-input-18-9e26a9569f66>:1: DtypeWarning: Columns (5,6,21,22,23,24,26,27,28,31,34,35,36,37,38,39,40,41,42,48) have mixed types. Specify dtype option on import or set low_memory=False.\n",
            "  gss = pd.read_csv('selected_gss_data.csv')\n"
          ]
        }
      ]
    },
    {
      "cell_type": "code",
      "source": [
        "gss.head()"
      ],
      "metadata": {
        "colab": {
          "base_uri": "https://localhost:8080/",
          "height": 412
        },
        "id": "Oh1N9xqJ7W-i",
        "outputId": "9d94079b-0559-45f5-f8b1-d65b6f666cbf"
      },
      "execution_count": 19,
      "outputs": [
        {
          "output_type": "execute_result",
          "data": {
            "text/plain": [
              "         marital divorce  childsinhh  childs  hompop_exp rspgndr rprnt18  \\\n",
              "0  never married     NaN         NaN     0.0         NaN     NaN     NaN   \n",
              "1        married      no         NaN     5.0         NaN     NaN     NaN   \n",
              "2        married      no         NaN     4.0         NaN     NaN     NaN   \n",
              "3        married      no         NaN     0.0         NaN     NaN     NaN   \n",
              "4        married      no         NaN     2.0         NaN     NaN     NaN   \n",
              "\n",
              "   educ                 degree  paeduc  ...  cowrksta          class  \\\n",
              "0  16.0             bachelor's    10.0  ...       NaN   middle class   \n",
              "1  10.0  less than high school     8.0  ...       NaN   middle class   \n",
              "2  12.0            high school     8.0  ...       NaN  working class   \n",
              "3  17.0             bachelor's    16.0  ...       NaN   middle class   \n",
              "4  12.0            high school     8.0  ...       NaN  working class   \n",
              "\n",
              "   polviews  reliten  pray                      attend  postlife  fear  \\\n",
              "0       NaN      NaN   NaN  about once or twice a year       NaN   NaN   \n",
              "1       NaN      NaN   NaN                  every week       NaN   NaN   \n",
              "2       NaN      NaN   NaN          about once a month       NaN   NaN   \n",
              "3       NaN      NaN   NaN                       never       NaN   NaN   \n",
              "4       NaN      NaN   NaN                       never       NaN   NaN   \n",
              "\n",
              "   gunlaw                 satjob  \n",
              "0   favor  a little dissatisfied  \n",
              "1   favor                    NaN  \n",
              "2   favor   moderately satisfied  \n",
              "3   favor         very satisfied  \n",
              "4   favor                    NaN  \n",
              "\n",
              "[5 rows x 58 columns]"
            ],
            "text/html": [
              "\n",
              "  <div id=\"df-8207a90e-b5f6-458c-9013-096c8ef123aa\" class=\"colab-df-container\">\n",
              "    <div>\n",
              "<style scoped>\n",
              "    .dataframe tbody tr th:only-of-type {\n",
              "        vertical-align: middle;\n",
              "    }\n",
              "\n",
              "    .dataframe tbody tr th {\n",
              "        vertical-align: top;\n",
              "    }\n",
              "\n",
              "    .dataframe thead th {\n",
              "        text-align: right;\n",
              "    }\n",
              "</style>\n",
              "<table border=\"1\" class=\"dataframe\">\n",
              "  <thead>\n",
              "    <tr style=\"text-align: right;\">\n",
              "      <th></th>\n",
              "      <th>marital</th>\n",
              "      <th>divorce</th>\n",
              "      <th>childsinhh</th>\n",
              "      <th>childs</th>\n",
              "      <th>hompop_exp</th>\n",
              "      <th>rspgndr</th>\n",
              "      <th>rprnt18</th>\n",
              "      <th>educ</th>\n",
              "      <th>degree</th>\n",
              "      <th>paeduc</th>\n",
              "      <th>...</th>\n",
              "      <th>cowrksta</th>\n",
              "      <th>class</th>\n",
              "      <th>polviews</th>\n",
              "      <th>reliten</th>\n",
              "      <th>pray</th>\n",
              "      <th>attend</th>\n",
              "      <th>postlife</th>\n",
              "      <th>fear</th>\n",
              "      <th>gunlaw</th>\n",
              "      <th>satjob</th>\n",
              "    </tr>\n",
              "  </thead>\n",
              "  <tbody>\n",
              "    <tr>\n",
              "      <th>0</th>\n",
              "      <td>never married</td>\n",
              "      <td>NaN</td>\n",
              "      <td>NaN</td>\n",
              "      <td>0.0</td>\n",
              "      <td>NaN</td>\n",
              "      <td>NaN</td>\n",
              "      <td>NaN</td>\n",
              "      <td>16.0</td>\n",
              "      <td>bachelor's</td>\n",
              "      <td>10.0</td>\n",
              "      <td>...</td>\n",
              "      <td>NaN</td>\n",
              "      <td>middle class</td>\n",
              "      <td>NaN</td>\n",
              "      <td>NaN</td>\n",
              "      <td>NaN</td>\n",
              "      <td>about once or twice a year</td>\n",
              "      <td>NaN</td>\n",
              "      <td>NaN</td>\n",
              "      <td>favor</td>\n",
              "      <td>a little dissatisfied</td>\n",
              "    </tr>\n",
              "    <tr>\n",
              "      <th>1</th>\n",
              "      <td>married</td>\n",
              "      <td>no</td>\n",
              "      <td>NaN</td>\n",
              "      <td>5.0</td>\n",
              "      <td>NaN</td>\n",
              "      <td>NaN</td>\n",
              "      <td>NaN</td>\n",
              "      <td>10.0</td>\n",
              "      <td>less than high school</td>\n",
              "      <td>8.0</td>\n",
              "      <td>...</td>\n",
              "      <td>NaN</td>\n",
              "      <td>middle class</td>\n",
              "      <td>NaN</td>\n",
              "      <td>NaN</td>\n",
              "      <td>NaN</td>\n",
              "      <td>every week</td>\n",
              "      <td>NaN</td>\n",
              "      <td>NaN</td>\n",
              "      <td>favor</td>\n",
              "      <td>NaN</td>\n",
              "    </tr>\n",
              "    <tr>\n",
              "      <th>2</th>\n",
              "      <td>married</td>\n",
              "      <td>no</td>\n",
              "      <td>NaN</td>\n",
              "      <td>4.0</td>\n",
              "      <td>NaN</td>\n",
              "      <td>NaN</td>\n",
              "      <td>NaN</td>\n",
              "      <td>12.0</td>\n",
              "      <td>high school</td>\n",
              "      <td>8.0</td>\n",
              "      <td>...</td>\n",
              "      <td>NaN</td>\n",
              "      <td>working class</td>\n",
              "      <td>NaN</td>\n",
              "      <td>NaN</td>\n",
              "      <td>NaN</td>\n",
              "      <td>about once a month</td>\n",
              "      <td>NaN</td>\n",
              "      <td>NaN</td>\n",
              "      <td>favor</td>\n",
              "      <td>moderately satisfied</td>\n",
              "    </tr>\n",
              "    <tr>\n",
              "      <th>3</th>\n",
              "      <td>married</td>\n",
              "      <td>no</td>\n",
              "      <td>NaN</td>\n",
              "      <td>0.0</td>\n",
              "      <td>NaN</td>\n",
              "      <td>NaN</td>\n",
              "      <td>NaN</td>\n",
              "      <td>17.0</td>\n",
              "      <td>bachelor's</td>\n",
              "      <td>16.0</td>\n",
              "      <td>...</td>\n",
              "      <td>NaN</td>\n",
              "      <td>middle class</td>\n",
              "      <td>NaN</td>\n",
              "      <td>NaN</td>\n",
              "      <td>NaN</td>\n",
              "      <td>never</td>\n",
              "      <td>NaN</td>\n",
              "      <td>NaN</td>\n",
              "      <td>favor</td>\n",
              "      <td>very satisfied</td>\n",
              "    </tr>\n",
              "    <tr>\n",
              "      <th>4</th>\n",
              "      <td>married</td>\n",
              "      <td>no</td>\n",
              "      <td>NaN</td>\n",
              "      <td>2.0</td>\n",
              "      <td>NaN</td>\n",
              "      <td>NaN</td>\n",
              "      <td>NaN</td>\n",
              "      <td>12.0</td>\n",
              "      <td>high school</td>\n",
              "      <td>8.0</td>\n",
              "      <td>...</td>\n",
              "      <td>NaN</td>\n",
              "      <td>working class</td>\n",
              "      <td>NaN</td>\n",
              "      <td>NaN</td>\n",
              "      <td>NaN</td>\n",
              "      <td>never</td>\n",
              "      <td>NaN</td>\n",
              "      <td>NaN</td>\n",
              "      <td>favor</td>\n",
              "      <td>NaN</td>\n",
              "    </tr>\n",
              "  </tbody>\n",
              "</table>\n",
              "<p>5 rows × 58 columns</p>\n",
              "</div>\n",
              "    <div class=\"colab-df-buttons\">\n",
              "\n",
              "  <div class=\"colab-df-container\">\n",
              "    <button class=\"colab-df-convert\" onclick=\"convertToInteractive('df-8207a90e-b5f6-458c-9013-096c8ef123aa')\"\n",
              "            title=\"Convert this dataframe to an interactive table.\"\n",
              "            style=\"display:none;\">\n",
              "\n",
              "  <svg xmlns=\"http://www.w3.org/2000/svg\" height=\"24px\" viewBox=\"0 -960 960 960\">\n",
              "    <path d=\"M120-120v-720h720v720H120Zm60-500h600v-160H180v160Zm220 220h160v-160H400v160Zm0 220h160v-160H400v160ZM180-400h160v-160H180v160Zm440 0h160v-160H620v160ZM180-180h160v-160H180v160Zm440 0h160v-160H620v160Z\"/>\n",
              "  </svg>\n",
              "    </button>\n",
              "\n",
              "  <style>\n",
              "    .colab-df-container {\n",
              "      display:flex;\n",
              "      gap: 12px;\n",
              "    }\n",
              "\n",
              "    .colab-df-convert {\n",
              "      background-color: #E8F0FE;\n",
              "      border: none;\n",
              "      border-radius: 50%;\n",
              "      cursor: pointer;\n",
              "      display: none;\n",
              "      fill: #1967D2;\n",
              "      height: 32px;\n",
              "      padding: 0 0 0 0;\n",
              "      width: 32px;\n",
              "    }\n",
              "\n",
              "    .colab-df-convert:hover {\n",
              "      background-color: #E2EBFA;\n",
              "      box-shadow: 0px 1px 2px rgba(60, 64, 67, 0.3), 0px 1px 3px 1px rgba(60, 64, 67, 0.15);\n",
              "      fill: #174EA6;\n",
              "    }\n",
              "\n",
              "    .colab-df-buttons div {\n",
              "      margin-bottom: 4px;\n",
              "    }\n",
              "\n",
              "    [theme=dark] .colab-df-convert {\n",
              "      background-color: #3B4455;\n",
              "      fill: #D2E3FC;\n",
              "    }\n",
              "\n",
              "    [theme=dark] .colab-df-convert:hover {\n",
              "      background-color: #434B5C;\n",
              "      box-shadow: 0px 1px 3px 1px rgba(0, 0, 0, 0.15);\n",
              "      filter: drop-shadow(0px 1px 2px rgba(0, 0, 0, 0.3));\n",
              "      fill: #FFFFFF;\n",
              "    }\n",
              "  </style>\n",
              "\n",
              "    <script>\n",
              "      const buttonEl =\n",
              "        document.querySelector('#df-8207a90e-b5f6-458c-9013-096c8ef123aa button.colab-df-convert');\n",
              "      buttonEl.style.display =\n",
              "        google.colab.kernel.accessAllowed ? 'block' : 'none';\n",
              "\n",
              "      async function convertToInteractive(key) {\n",
              "        const element = document.querySelector('#df-8207a90e-b5f6-458c-9013-096c8ef123aa');\n",
              "        const dataTable =\n",
              "          await google.colab.kernel.invokeFunction('convertToInteractive',\n",
              "                                                    [key], {});\n",
              "        if (!dataTable) return;\n",
              "\n",
              "        const docLinkHtml = 'Like what you see? Visit the ' +\n",
              "          '<a target=\"_blank\" href=https://colab.research.google.com/notebooks/data_table.ipynb>data table notebook</a>'\n",
              "          + ' to learn more about interactive tables.';\n",
              "        element.innerHTML = '';\n",
              "        dataTable['output_type'] = 'display_data';\n",
              "        await google.colab.output.renderOutput(dataTable, element);\n",
              "        const docLink = document.createElement('div');\n",
              "        docLink.innerHTML = docLinkHtml;\n",
              "        element.appendChild(docLink);\n",
              "      }\n",
              "    </script>\n",
              "  </div>\n",
              "\n",
              "\n",
              "<div id=\"df-9d0022e0-cb1d-41a2-ac79-ee8e86e47c87\">\n",
              "  <button class=\"colab-df-quickchart\" onclick=\"quickchart('df-9d0022e0-cb1d-41a2-ac79-ee8e86e47c87')\"\n",
              "            title=\"Suggest charts\"\n",
              "            style=\"display:none;\">\n",
              "\n",
              "<svg xmlns=\"http://www.w3.org/2000/svg\" height=\"24px\"viewBox=\"0 0 24 24\"\n",
              "     width=\"24px\">\n",
              "    <g>\n",
              "        <path d=\"M19 3H5c-1.1 0-2 .9-2 2v14c0 1.1.9 2 2 2h14c1.1 0 2-.9 2-2V5c0-1.1-.9-2-2-2zM9 17H7v-7h2v7zm4 0h-2V7h2v10zm4 0h-2v-4h2v4z\"/>\n",
              "    </g>\n",
              "</svg>\n",
              "  </button>\n",
              "\n",
              "<style>\n",
              "  .colab-df-quickchart {\n",
              "      --bg-color: #E8F0FE;\n",
              "      --fill-color: #1967D2;\n",
              "      --hover-bg-color: #E2EBFA;\n",
              "      --hover-fill-color: #174EA6;\n",
              "      --disabled-fill-color: #AAA;\n",
              "      --disabled-bg-color: #DDD;\n",
              "  }\n",
              "\n",
              "  [theme=dark] .colab-df-quickchart {\n",
              "      --bg-color: #3B4455;\n",
              "      --fill-color: #D2E3FC;\n",
              "      --hover-bg-color: #434B5C;\n",
              "      --hover-fill-color: #FFFFFF;\n",
              "      --disabled-bg-color: #3B4455;\n",
              "      --disabled-fill-color: #666;\n",
              "  }\n",
              "\n",
              "  .colab-df-quickchart {\n",
              "    background-color: var(--bg-color);\n",
              "    border: none;\n",
              "    border-radius: 50%;\n",
              "    cursor: pointer;\n",
              "    display: none;\n",
              "    fill: var(--fill-color);\n",
              "    height: 32px;\n",
              "    padding: 0;\n",
              "    width: 32px;\n",
              "  }\n",
              "\n",
              "  .colab-df-quickchart:hover {\n",
              "    background-color: var(--hover-bg-color);\n",
              "    box-shadow: 0 1px 2px rgba(60, 64, 67, 0.3), 0 1px 3px 1px rgba(60, 64, 67, 0.15);\n",
              "    fill: var(--button-hover-fill-color);\n",
              "  }\n",
              "\n",
              "  .colab-df-quickchart-complete:disabled,\n",
              "  .colab-df-quickchart-complete:disabled:hover {\n",
              "    background-color: var(--disabled-bg-color);\n",
              "    fill: var(--disabled-fill-color);\n",
              "    box-shadow: none;\n",
              "  }\n",
              "\n",
              "  .colab-df-spinner {\n",
              "    border: 2px solid var(--fill-color);\n",
              "    border-color: transparent;\n",
              "    border-bottom-color: var(--fill-color);\n",
              "    animation:\n",
              "      spin 1s steps(1) infinite;\n",
              "  }\n",
              "\n",
              "  @keyframes spin {\n",
              "    0% {\n",
              "      border-color: transparent;\n",
              "      border-bottom-color: var(--fill-color);\n",
              "      border-left-color: var(--fill-color);\n",
              "    }\n",
              "    20% {\n",
              "      border-color: transparent;\n",
              "      border-left-color: var(--fill-color);\n",
              "      border-top-color: var(--fill-color);\n",
              "    }\n",
              "    30% {\n",
              "      border-color: transparent;\n",
              "      border-left-color: var(--fill-color);\n",
              "      border-top-color: var(--fill-color);\n",
              "      border-right-color: var(--fill-color);\n",
              "    }\n",
              "    40% {\n",
              "      border-color: transparent;\n",
              "      border-right-color: var(--fill-color);\n",
              "      border-top-color: var(--fill-color);\n",
              "    }\n",
              "    60% {\n",
              "      border-color: transparent;\n",
              "      border-right-color: var(--fill-color);\n",
              "    }\n",
              "    80% {\n",
              "      border-color: transparent;\n",
              "      border-right-color: var(--fill-color);\n",
              "      border-bottom-color: var(--fill-color);\n",
              "    }\n",
              "    90% {\n",
              "      border-color: transparent;\n",
              "      border-bottom-color: var(--fill-color);\n",
              "    }\n",
              "  }\n",
              "</style>\n",
              "\n",
              "  <script>\n",
              "    async function quickchart(key) {\n",
              "      const quickchartButtonEl =\n",
              "        document.querySelector('#' + key + ' button');\n",
              "      quickchartButtonEl.disabled = true;  // To prevent multiple clicks.\n",
              "      quickchartButtonEl.classList.add('colab-df-spinner');\n",
              "      try {\n",
              "        const charts = await google.colab.kernel.invokeFunction(\n",
              "            'suggestCharts', [key], {});\n",
              "      } catch (error) {\n",
              "        console.error('Error during call to suggestCharts:', error);\n",
              "      }\n",
              "      quickchartButtonEl.classList.remove('colab-df-spinner');\n",
              "      quickchartButtonEl.classList.add('colab-df-quickchart-complete');\n",
              "    }\n",
              "    (() => {\n",
              "      let quickchartButtonEl =\n",
              "        document.querySelector('#df-9d0022e0-cb1d-41a2-ac79-ee8e86e47c87 button');\n",
              "      quickchartButtonEl.style.display =\n",
              "        google.colab.kernel.accessAllowed ? 'block' : 'none';\n",
              "    })();\n",
              "  </script>\n",
              "</div>\n",
              "\n",
              "    </div>\n",
              "  </div>\n"
            ],
            "application/vnd.google.colaboratory.intrinsic+json": {
              "type": "dataframe",
              "variable_name": "gss"
            }
          },
          "metadata": {},
          "execution_count": 19
        }
      ]
    },
    {
      "cell_type": "code",
      "source": [
        "gss['divorce'].unique()\n",
        "# have you ever been divorced"
      ],
      "metadata": {
        "colab": {
          "base_uri": "https://localhost:8080/"
        },
        "id": "wqFljiCpMOme",
        "outputId": "347cdd8f-27f2-4794-9dd8-b502aa6c3051"
      },
      "execution_count": 20,
      "outputs": [
        {
          "output_type": "execute_result",
          "data": {
            "text/plain": [
              "array([nan, 'no', 'yes'], dtype=object)"
            ]
          },
          "metadata": {},
          "execution_count": 20
        }
      ]
    },
    {
      "cell_type": "code",
      "source": [
        "gss['marital'].unique()\n",
        "# marital status"
      ],
      "metadata": {
        "colab": {
          "base_uri": "https://localhost:8080/"
        },
        "id": "BnuFIHKHM7Ql",
        "outputId": "5fd40c41-8212-4e98-8e4b-943cd2d7759c"
      },
      "execution_count": 21,
      "outputs": [
        {
          "output_type": "execute_result",
          "data": {
            "text/plain": [
              "array(['never married', 'married', 'divorced', 'widowed', 'separated',\n",
              "       nan], dtype=object)"
            ]
          },
          "metadata": {},
          "execution_count": 21
        }
      ]
    },
    {
      "cell_type": "code",
      "source": [
        "gss['childsinhh'].unique()\n",
        "# number of children in the household"
      ],
      "metadata": {
        "colab": {
          "base_uri": "https://localhost:8080/"
        },
        "id": "N39QQFWdNd8Y",
        "outputId": "abfef26e-80dd-47bb-bf6a-2f3c5912b20f"
      },
      "execution_count": 22,
      "outputs": [
        {
          "output_type": "execute_result",
          "data": {
            "text/plain": [
              "array([nan,  0.,  2.,  1.,  3.,  5.,  6.,  4.,  8.,  7.])"
            ]
          },
          "metadata": {},
          "execution_count": 22
        }
      ]
    },
    {
      "cell_type": "code",
      "source": [
        "gss['childs'].unique()\n",
        "# how many children have you ever had?"
      ],
      "metadata": {
        "colab": {
          "base_uri": "https://localhost:8080/"
        },
        "id": "DKik-2DEOFrf",
        "outputId": "fa5f6645-750a-4eb1-b57c-4c470ba7b4aa"
      },
      "execution_count": 23,
      "outputs": [
        {
          "output_type": "execute_result",
          "data": {
            "text/plain": [
              "array([ 0.,  5.,  4.,  2.,  1.,  3.,  6.,  8.,  7., nan])"
            ]
          },
          "metadata": {},
          "execution_count": 23
        }
      ]
    },
    {
      "cell_type": "code",
      "source": [
        "gss['hompop_exp'].unique()\n",
        "# total # of people in household\n",
        "gss = gss.drop(columns='hompop_exp')"
      ],
      "metadata": {
        "id": "wssjWEk-OOJn"
      },
      "execution_count": 27,
      "outputs": []
    },
    {
      "cell_type": "code",
      "source": [
        "gss['rspgndr'].unique()\n",
        "# how the home/childcare labor is divided by gender"
      ],
      "metadata": {
        "colab": {
          "base_uri": "https://localhost:8080/"
        },
        "id": "bvtgZMO3Ob8w",
        "outputId": "8fecbf32-b338-4fed-d33b-b28946a6ea4e"
      },
      "execution_count": 29,
      "outputs": [
        {
          "output_type": "execute_result",
          "data": {
            "text/plain": [
              "array([nan, 'women and men take equal responsibility',\n",
              "       'men take much more responsibility',\n",
              "       'men take somewhat more responsibility',\n",
              "       'women take somewhat more responsibility',\n",
              "       'women take much more responsibility'], dtype=object)"
            ]
          },
          "metadata": {},
          "execution_count": 29
        }
      ]
    }
  ]
}